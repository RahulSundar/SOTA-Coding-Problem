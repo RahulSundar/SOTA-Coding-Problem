{
  "nbformat": 4,
  "nbformat_minor": 0,
  "metadata": {
    "colab": {
      "name": "A SOTA Coding problem solution.ipynb",
      "provenance": [],
      "authorship_tag": "ABX9TyMWYGkptnegIeE8cSkfJbCF",
      "include_colab_link": true
    },
    "kernelspec": {
      "name": "python3",
      "display_name": "Python 3"
    }
  },
  "cells": [
    {
      "cell_type": "markdown",
      "metadata": {
        "id": "view-in-github",
        "colab_type": "text"
      },
      "source": [
        "<a href=\"https://colab.research.google.com/github/Rishit-dagli/SOTA-Coding-Problem/blob/master/A_SOTA_Coding_problem_solution.ipynb\" target=\"_parent\"><img src=\"https://colab.research.google.com/assets/colab-badge.svg\" alt=\"Open In Colab\"/></a>"
      ]
    },
    {
      "cell_type": "markdown",
      "metadata": {
        "id": "unKR6yLVOHd1",
        "colab_type": "text"
      },
      "source": [
        "# A SOTA Coding problem\n",
        "-[Rishit Dagli](https://www.rishit.tech)"
      ]
    },
    {
      "cell_type": "markdown",
      "metadata": {
        "id": "BHqlYz-sOcbz",
        "colab_type": "text"
      },
      "source": [
        "The solution of a SOTA coding problem mentioned in my blog \"[SOTA Coding Problem](https://github.com/Rishit-dagli/SOTA-Coding-Problem)\""
      ]
    },
    {
      "cell_type": "code",
      "metadata": {
        "id": "Qb-2Hu6qLEM9",
        "colab_type": "code",
        "outputId": "caa5006d-92dd-4475-b305-fd45ab0e2016",
        "colab": {
          "base_uri": "https://localhost:8080/",
          "height": 51
        }
      },
      "source": [
        "minus_sqrt2 = 4142135623730950488016887242096980785696718753769480731766797379907324784621070388503875343276415727\n",
        "def n1(n):\n",
        "    return (minus_sqrt2 * n) // (10 ** 100)\n",
        "def s(n):\n",
        "    if n == 1:\n",
        "        return 1\n",
        "    if n < 1:\n",
        "        return 0\n",
        "    return n * n1(n) + n * (n + 1) / 2 - n1(n) * (n1(n) + 1) / 2 - s(n1(n))\n",
        "def solution(n):\n",
        "    return str(s(int(n)))\n",
        "\n",
        "print(solution('77')) # 4208\n",
        "print(solution('5'))  # 19"
      ],
      "execution_count": 1,
      "outputs": [
        {
          "output_type": "stream",
          "text": [
            "4208.0\n",
            "19.0\n"
          ],
          "name": "stdout"
        }
      ]
    }
  ]
}